{
  "nbformat": 4,
  "nbformat_minor": 0,
  "metadata": {
    "colab": {
      "provenance": []
    },
    "kernelspec": {
      "name": "python3",
      "display_name": "Python 3"
    },
    "language_info": {
      "name": "python"
    }
  },
  "cells": [
    {
      "cell_type": "markdown",
      "source": [
        "This needs to be run so that JupyterLab can create a valid kernel"
      ],
      "metadata": {
        "id": "sM311xaO6xVA"
      }
    },
    {
      "cell_type": "code",
      "execution_count": null,
      "metadata": {
        "id": "KnUMsj0A6vCH"
      },
      "outputs": [],
      "source": [
        "!pip install pandas\n",
        "!pip install nltk\n",
        "!pip install scikit-learn\n",
        "!pip install matplotlib\n",
        "!pip install seaborn"
      ]
    }
  ]
}