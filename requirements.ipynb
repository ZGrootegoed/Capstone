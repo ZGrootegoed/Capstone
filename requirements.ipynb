!pip install pandas
!pip install nltk
!pip install scikit-learn
!pip install matplotlib
!pip install seaborn